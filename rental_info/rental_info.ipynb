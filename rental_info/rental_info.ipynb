{
 "cells": [
  {
   "cell_type": "markdown",
   "id": "b4ae5707-109f-4cd6-8168-88cac0179d6b",
   "metadata": {},
   "source": [
    "![dvd_image](dvd_image.jpg)\n",
    "\n",
    "A DVD rental company needs your help! They want to figure out how many days a customer will rent a DVD for based on some features and has approached you for help. They want you to try out some regression models which will help predict the number of days a customer will rent a DVD for. The company wants a model which yeilds a MSE of 3 or less on a test set. The model you make will help the company become more efficient inventory planning.\n",
    "\n",
    "The data they provided is in the csv file `rental_info.csv`. It has the following features:\n",
    "- `\"rental_date\"`: The date (and time) the customer rents the DVD.\n",
    "- `\"return_date\"`: The date (and time) the customer returns the DVD.\n",
    "- `\"amount\"`: The amount paid by the customer for renting the DVD.\n",
    "- `\"amount_2\"`: The square of `\"amount\"`.\n",
    "- `\"rental_rate\"`: The rate at which the DVD is rented for.\n",
    "- `\"rental_rate_2\"`: The square of `\"rental_rate\"`.\n",
    "- `\"release_year\"`: The year the movie being rented was released.\n",
    "- `\"length\"`: Lenght of the movie being rented, in minuites.\n",
    "- `\"length_2\"`: The square of `\"length\"`.\n",
    "- `\"replacement_cost\"`: The amount it will cost the company to replace the DVD.\n",
    "- `\"special_features\"`: Any special features, for example trailers/deleted scenes that the DVD also has.\n",
    "- `\"NC-17\"`, `\"PG\"`, `\"PG-13\"`, `\"R\"`: These columns are dummy variables of the rating of the movie. It takes the value 1 if the move is rated as the column name and 0 otherwise. For your convinience, the reference dummy has already been dropped."
   ]
  },
  {
   "cell_type": "code",
   "execution_count": 2,
   "id": "a7ede566-910a-445c-b11a-68d192ac8506",
   "metadata": {
    "executionCancelledAt": null,
    "executionTime": 84,
    "lastExecutedAt": 1717427775175,
    "lastExecutedByKernel": "99f0087b-e192-4109-ab1f-f3a178abfaf0",
    "lastScheduledRunId": null,
    "lastSuccessfullyExecutedCode": "import pandas as pd\nimport numpy as np\n\nfrom sklearn.model_selection import train_test_split\nfrom sklearn.metrics import mean_squared_error as MSE\n\n# Import any additional modules and start coding below\nrental = pd.read_csv('rental_info.csv')\n\n# Converting information to the datetime format\nrental['rental_date'] = pd.to_datetime(rental['rental_date'])\nrental['return_date'] = pd.to_datetime(rental['return_date'])\n\n# Calculating the renting time in days\nrental['rental_length_days'] = (rental['return_date'] - rental['rental_date']).dt.days\n\nrental.head()\n",
    "outputsMetadata": {
     "0": {
      "height": 501,
      "tableState": {},
      "type": "dataFrame"
     }
    }
   },
   "outputs": [
    {
     "data": {
      "text/html": [
       "<div>\n",
       "<style scoped>\n",
       "    .dataframe tbody tr th:only-of-type {\n",
       "        vertical-align: middle;\n",
       "    }\n",
       "\n",
       "    .dataframe tbody tr th {\n",
       "        vertical-align: top;\n",
       "    }\n",
       "\n",
       "    .dataframe thead th {\n",
       "        text-align: right;\n",
       "    }\n",
       "</style>\n",
       "<table border=\"1\" class=\"dataframe\">\n",
       "  <thead>\n",
       "    <tr style=\"text-align: right;\">\n",
       "      <th></th>\n",
       "      <th>rental_date</th>\n",
       "      <th>return_date</th>\n",
       "      <th>amount</th>\n",
       "      <th>release_year</th>\n",
       "      <th>rental_rate</th>\n",
       "      <th>length</th>\n",
       "      <th>replacement_cost</th>\n",
       "      <th>special_features</th>\n",
       "      <th>NC-17</th>\n",
       "      <th>PG</th>\n",
       "      <th>PG-13</th>\n",
       "      <th>R</th>\n",
       "      <th>amount_2</th>\n",
       "      <th>length_2</th>\n",
       "      <th>rental_rate_2</th>\n",
       "      <th>rental_length_days</th>\n",
       "    </tr>\n",
       "  </thead>\n",
       "  <tbody>\n",
       "    <tr>\n",
       "      <th>0</th>\n",
       "      <td>2005-05-25 02:54:33+00:00</td>\n",
       "      <td>2005-05-28 23:40:33+00:00</td>\n",
       "      <td>2.99</td>\n",
       "      <td>2005.0</td>\n",
       "      <td>2.99</td>\n",
       "      <td>126.0</td>\n",
       "      <td>16.99</td>\n",
       "      <td>{Trailers,\"Behind the Scenes\"}</td>\n",
       "      <td>0</td>\n",
       "      <td>0</td>\n",
       "      <td>0</td>\n",
       "      <td>1</td>\n",
       "      <td>8.9401</td>\n",
       "      <td>15876.0</td>\n",
       "      <td>8.9401</td>\n",
       "      <td>3</td>\n",
       "    </tr>\n",
       "    <tr>\n",
       "      <th>1</th>\n",
       "      <td>2005-06-15 23:19:16+00:00</td>\n",
       "      <td>2005-06-18 19:24:16+00:00</td>\n",
       "      <td>2.99</td>\n",
       "      <td>2005.0</td>\n",
       "      <td>2.99</td>\n",
       "      <td>126.0</td>\n",
       "      <td>16.99</td>\n",
       "      <td>{Trailers,\"Behind the Scenes\"}</td>\n",
       "      <td>0</td>\n",
       "      <td>0</td>\n",
       "      <td>0</td>\n",
       "      <td>1</td>\n",
       "      <td>8.9401</td>\n",
       "      <td>15876.0</td>\n",
       "      <td>8.9401</td>\n",
       "      <td>2</td>\n",
       "    </tr>\n",
       "    <tr>\n",
       "      <th>2</th>\n",
       "      <td>2005-07-10 04:27:45+00:00</td>\n",
       "      <td>2005-07-17 10:11:45+00:00</td>\n",
       "      <td>2.99</td>\n",
       "      <td>2005.0</td>\n",
       "      <td>2.99</td>\n",
       "      <td>126.0</td>\n",
       "      <td>16.99</td>\n",
       "      <td>{Trailers,\"Behind the Scenes\"}</td>\n",
       "      <td>0</td>\n",
       "      <td>0</td>\n",
       "      <td>0</td>\n",
       "      <td>1</td>\n",
       "      <td>8.9401</td>\n",
       "      <td>15876.0</td>\n",
       "      <td>8.9401</td>\n",
       "      <td>7</td>\n",
       "    </tr>\n",
       "    <tr>\n",
       "      <th>3</th>\n",
       "      <td>2005-07-31 12:06:41+00:00</td>\n",
       "      <td>2005-08-02 14:30:41+00:00</td>\n",
       "      <td>2.99</td>\n",
       "      <td>2005.0</td>\n",
       "      <td>2.99</td>\n",
       "      <td>126.0</td>\n",
       "      <td>16.99</td>\n",
       "      <td>{Trailers,\"Behind the Scenes\"}</td>\n",
       "      <td>0</td>\n",
       "      <td>0</td>\n",
       "      <td>0</td>\n",
       "      <td>1</td>\n",
       "      <td>8.9401</td>\n",
       "      <td>15876.0</td>\n",
       "      <td>8.9401</td>\n",
       "      <td>2</td>\n",
       "    </tr>\n",
       "    <tr>\n",
       "      <th>4</th>\n",
       "      <td>2005-08-19 12:30:04+00:00</td>\n",
       "      <td>2005-08-23 13:35:04+00:00</td>\n",
       "      <td>2.99</td>\n",
       "      <td>2005.0</td>\n",
       "      <td>2.99</td>\n",
       "      <td>126.0</td>\n",
       "      <td>16.99</td>\n",
       "      <td>{Trailers,\"Behind the Scenes\"}</td>\n",
       "      <td>0</td>\n",
       "      <td>0</td>\n",
       "      <td>0</td>\n",
       "      <td>1</td>\n",
       "      <td>8.9401</td>\n",
       "      <td>15876.0</td>\n",
       "      <td>8.9401</td>\n",
       "      <td>4</td>\n",
       "    </tr>\n",
       "  </tbody>\n",
       "</table>\n",
       "</div>"
      ],
      "text/plain": [
       "                rental_date               return_date  amount  release_year  \\\n",
       "0 2005-05-25 02:54:33+00:00 2005-05-28 23:40:33+00:00    2.99        2005.0   \n",
       "1 2005-06-15 23:19:16+00:00 2005-06-18 19:24:16+00:00    2.99        2005.0   \n",
       "2 2005-07-10 04:27:45+00:00 2005-07-17 10:11:45+00:00    2.99        2005.0   \n",
       "3 2005-07-31 12:06:41+00:00 2005-08-02 14:30:41+00:00    2.99        2005.0   \n",
       "4 2005-08-19 12:30:04+00:00 2005-08-23 13:35:04+00:00    2.99        2005.0   \n",
       "\n",
       "   rental_rate  length  replacement_cost                special_features  \\\n",
       "0         2.99   126.0             16.99  {Trailers,\"Behind the Scenes\"}   \n",
       "1         2.99   126.0             16.99  {Trailers,\"Behind the Scenes\"}   \n",
       "2         2.99   126.0             16.99  {Trailers,\"Behind the Scenes\"}   \n",
       "3         2.99   126.0             16.99  {Trailers,\"Behind the Scenes\"}   \n",
       "4         2.99   126.0             16.99  {Trailers,\"Behind the Scenes\"}   \n",
       "\n",
       "   NC-17  PG  PG-13  R  amount_2  length_2  rental_rate_2  rental_length_days  \n",
       "0      0   0      0  1    8.9401   15876.0         8.9401                   3  \n",
       "1      0   0      0  1    8.9401   15876.0         8.9401                   2  \n",
       "2      0   0      0  1    8.9401   15876.0         8.9401                   7  \n",
       "3      0   0      0  1    8.9401   15876.0         8.9401                   2  \n",
       "4      0   0      0  1    8.9401   15876.0         8.9401                   4  "
      ]
     },
     "execution_count": 2,
     "metadata": {},
     "output_type": "execute_result"
    }
   ],
   "source": [
    "import pandas as pd\n",
    "import numpy as np\n",
    "\n",
    "from sklearn.model_selection import train_test_split\n",
    "from sklearn.metrics import mean_squared_error as MSE\n",
    "\n",
    "# Import any additional modules and start coding below\n",
    "rental = pd.read_csv('rental_info.csv')\n",
    "\n",
    "# Converting information to the datetime format\n",
    "rental['rental_date'] = pd.to_datetime(rental['rental_date'])\n",
    "rental['return_date'] = pd.to_datetime(rental['return_date'])\n",
    "\n",
    "# Calculating the renting time in days\n",
    "rental['rental_length_days'] = (rental['return_date'] - rental['rental_date']).dt.days\n",
    "\n",
    "rental.head()\n"
   ]
  },
  {
   "cell_type": "code",
   "execution_count": 3,
   "id": "064d8231-d12a-411a-9f6f-13d73581c5c3",
   "metadata": {
    "executionCancelledAt": null,
    "executionTime": 56,
    "lastExecutedAt": 1717427775231,
    "lastExecutedByKernel": "99f0087b-e192-4109-ab1f-f3a178abfaf0",
    "lastScheduledRunId": null,
    "lastSuccessfullyExecutedCode": "# Creating a dummy variables for deleted scenes\nrental['deleted_scenes'] = np.where(rental['special_features'].str.contains(\"Deleted Scenes\"), 1, 0)\n\n# Creating a dummy variables for behind the scenes\nrental['behind_the_scenes'] = np.where(rental['special_features'].str.contains(\"Behind the Scenes\"), 1, 0)\n\nrental[['special_features', 'deleted_scenes', 'behind_the_scenes']].head()\n",
    "outputsMetadata": {
     "0": {
      "height": 501,
      "tableState": {},
      "type": "dataFrame"
     }
    }
   },
   "outputs": [
    {
     "data": {
      "text/html": [
       "<div>\n",
       "<style scoped>\n",
       "    .dataframe tbody tr th:only-of-type {\n",
       "        vertical-align: middle;\n",
       "    }\n",
       "\n",
       "    .dataframe tbody tr th {\n",
       "        vertical-align: top;\n",
       "    }\n",
       "\n",
       "    .dataframe thead th {\n",
       "        text-align: right;\n",
       "    }\n",
       "</style>\n",
       "<table border=\"1\" class=\"dataframe\">\n",
       "  <thead>\n",
       "    <tr style=\"text-align: right;\">\n",
       "      <th></th>\n",
       "      <th>special_features</th>\n",
       "      <th>deleted_scenes</th>\n",
       "      <th>behind_the_scenes</th>\n",
       "    </tr>\n",
       "  </thead>\n",
       "  <tbody>\n",
       "    <tr>\n",
       "      <th>0</th>\n",
       "      <td>{Trailers,\"Behind the Scenes\"}</td>\n",
       "      <td>0</td>\n",
       "      <td>1</td>\n",
       "    </tr>\n",
       "    <tr>\n",
       "      <th>1</th>\n",
       "      <td>{Trailers,\"Behind the Scenes\"}</td>\n",
       "      <td>0</td>\n",
       "      <td>1</td>\n",
       "    </tr>\n",
       "    <tr>\n",
       "      <th>2</th>\n",
       "      <td>{Trailers,\"Behind the Scenes\"}</td>\n",
       "      <td>0</td>\n",
       "      <td>1</td>\n",
       "    </tr>\n",
       "    <tr>\n",
       "      <th>3</th>\n",
       "      <td>{Trailers,\"Behind the Scenes\"}</td>\n",
       "      <td>0</td>\n",
       "      <td>1</td>\n",
       "    </tr>\n",
       "    <tr>\n",
       "      <th>4</th>\n",
       "      <td>{Trailers,\"Behind the Scenes\"}</td>\n",
       "      <td>0</td>\n",
       "      <td>1</td>\n",
       "    </tr>\n",
       "  </tbody>\n",
       "</table>\n",
       "</div>"
      ],
      "text/plain": [
       "                 special_features  deleted_scenes  behind_the_scenes\n",
       "0  {Trailers,\"Behind the Scenes\"}               0                  1\n",
       "1  {Trailers,\"Behind the Scenes\"}               0                  1\n",
       "2  {Trailers,\"Behind the Scenes\"}               0                  1\n",
       "3  {Trailers,\"Behind the Scenes\"}               0                  1\n",
       "4  {Trailers,\"Behind the Scenes\"}               0                  1"
      ]
     },
     "execution_count": 3,
     "metadata": {},
     "output_type": "execute_result"
    }
   ],
   "source": [
    "# Creating a dummy variables for deleted scenes\n",
    "rental['deleted_scenes'] = np.where(rental['special_features'].str.contains(\"Deleted Scenes\"), 1, 0)\n",
    "\n",
    "# Creating a dummy variables for behind the scenes\n",
    "rental['behind_the_scenes'] = np.where(rental['special_features'].str.contains(\"Behind the Scenes\"), 1, 0)\n",
    "\n",
    "rental[['special_features', 'deleted_scenes', 'behind_the_scenes']].head()\n"
   ]
  },
  {
   "cell_type": "code",
   "execution_count": 4,
   "id": "7bc684b1-78a9-4f8a-a948-0e24c2aa47f8",
   "metadata": {
    "executionCancelledAt": null,
    "executionTime": 55,
    "lastExecutedAt": 1717427775286,
    "lastExecutedByKernel": "99f0087b-e192-4109-ab1f-f3a178abfaf0",
    "lastScheduledRunId": null,
    "lastSuccessfullyExecutedCode": "# Creating X and y with Xthe feature matrix, and y the target variable\n# Dropping those columns because the model wouldn't compute correctly with them\nto_drop = ['special_features', 'rental_length_days', 'rental_date', 'return_date']\nX = rental.drop(to_drop, axis=1).values\ny = rental['rental_length_days'].values\n\n# Spliting the data (we chose a 20% split for training)\n\nX_train, X_test, y_train, y_test = train_test_split(X, y, test_size = 0.2, random_state = 9)\n"
   },
   "outputs": [],
   "source": [
    "# Creating X and y with Xthe feature matrix, and y the target variable\n",
    "# Dropping those columns because the model wouldn't compute correctly with them\n",
    "to_drop = ['special_features', 'rental_length_days', 'rental_date', 'return_date']\n",
    "X = rental.drop(to_drop, axis=1).values\n",
    "y = rental['rental_length_days'].values\n",
    "\n",
    "# Spliting the data (we chose a 20% split for training)\n",
    "\n",
    "X_train, X_test, y_train, y_test = train_test_split(X, y, test_size = 0.2, random_state = 9)\n"
   ]
  },
  {
   "cell_type": "code",
   "execution_count": 5,
   "id": "1a7cf8f5-426d-4ef2-a5a7-d9d2e8d99f18",
   "metadata": {
    "executionCancelledAt": null,
    "executionTime": 403,
    "lastExecutedAt": 1717427775691,
    "lastExecutedByKernel": "99f0087b-e192-4109-ab1f-f3a178abfaf0",
    "lastScheduledRunId": null,
    "lastSuccessfullyExecutedCode": "from sklearn.linear_model import Lasso\n\n#Creating a lasso model to determine the best parameters\nlasso = Lasso(alpha = 0.1, random_state = 9)\nlasso.fit(X_train, y_train)\n\n#Getting its coefficients\nlasso_coef = lasso.coef_\n\n# Getting the X for lasso > 0\nX_lasso_train, X_lasso_test = X_train[:, lasso_coef > 0], X_test[:, lasso_coef > 0]\n\n"
   },
   "outputs": [],
   "source": [
    "from sklearn.linear_model import Lasso\n",
    "\n",
    "#Creating a lasso model to determine the best parameters\n",
    "lasso = Lasso(alpha = 0.1, random_state = 9)\n",
    "lasso.fit(X_train, y_train)\n",
    "\n",
    "#Getting its coefficients\n",
    "lasso_coef = lasso.coef_\n",
    "\n",
    "# Getting the X for lasso > 0\n",
    "X_lasso_train, X_lasso_test = X_train[:, lasso_coef > 0], X_test[:, lasso_coef > 0]\n",
    "\n"
   ]
  },
  {
   "cell_type": "code",
   "execution_count": 6,
   "id": "24643011-35a7-4ae8-bd67-10ca2271efba",
   "metadata": {
    "executionCancelledAt": null,
    "executionTime": 193,
    "lastExecutedAt": 1717427775885,
    "lastExecutedByKernel": "99f0087b-e192-4109-ab1f-f3a178abfaf0",
    "lastScheduledRunId": null,
    "lastSuccessfullyExecutedCode": "# Creating a new model\nfrom sklearn.linear_model import LinearRegression\nfrom sklearn.ensemble import RandomForestRegressor\nfrom sklearn.model_selection import RandomizedSearchCV\n\nlr = LinearRegression()\nlr.fit(X_lasso_train, y_train)\ny_pred = lr.predict(X_lasso_test)\nmse_lr = MSE(y_test, y_pred)\nprint('Test MSE {:.2f}'.format(mse_lr))\n",
    "outputsMetadata": {
     "0": {
      "height": 38,
      "type": "stream"
     }
    }
   },
   "outputs": [
    {
     "name": "stdout",
     "output_type": "stream",
     "text": [
      "Test MSE for the linear regression: 4.81\n"
     ]
    }
   ],
   "source": [
    "# Creating a new model\n",
    "from sklearn.linear_model import LinearRegression\n",
    "from sklearn.ensemble import RandomForestRegressor\n",
    "from sklearn.model_selection import RandomizedSearchCV\n",
    "\n",
    "lr = LinearRegression()\n",
    "lr.fit(X_lasso_train, y_train)\n",
    "y_pred = lr.predict(X_lasso_test)\n",
    "mse_lr = MSE(y_test, y_pred)\n",
    "print('Test MSE for the linear regression: {:.2f}'.format(mse_lr))\n"
   ]
  },
  {
   "cell_type": "code",
   "execution_count": 7,
   "id": "a56b5fcc-ebd6-4653-b236-0ba9aefea625",
   "metadata": {
    "executionCancelledAt": null,
    "executionTime": 23795,
    "lastExecutedAt": 1717427799680,
    "lastExecutedByKernel": "99f0087b-e192-4109-ab1f-f3a178abfaf0",
    "lastScheduledRunId": null,
    "lastSuccessfullyExecutedCode": "params = {'n_estimators': np.arange(1, 101, 1), 'max_depth':np.arange(1,11,1)}\n\nrf = RandomForestRegressor()\nrandom_search = RandomizedSearchCV(rf, param_distributions = params , cv = 5, random_state = 9)\nrandom_search.fit(X_train, y_train)\n\nhyper_params = random_search.best_params_\n\nrf = RandomForestRegressor(n_estimators = hyper_params['n_estimators'], max_depth = hyper_params['max_depth'], random_state = 9)\nrf.fit(X_train, y_train)\nrf_pred = rf.predict(X_test)\nmse_rf = MSE(y_test, rf_pred)\n"
   },
   "outputs": [],
   "source": [
    "params = {'n_estimators': np.arange(1, 101, 1), 'max_depth':np.arange(1,11,1)}\n",
    "\n",
    "rf = RandomForestRegressor()\n",
    "random_search = RandomizedSearchCV(rf, param_distributions = params , cv = 5, random_state = 9)\n",
    "random_search.fit(X_train, y_train)\n",
    "\n",
    "hyper_params = random_search.best_params_\n",
    "\n",
    "rf = RandomForestRegressor(n_estimators = hyper_params['n_estimators'], max_depth = hyper_params['max_depth'], random_state = 9)\n",
    "rf.fit(X_train, y_train)\n",
    "rf_pred = rf.predict(X_test)\n",
    "mse_rf = MSE(y_test, rf_pred)\n"
   ]
  },
  {
   "cell_type": "code",
   "execution_count": 9,
   "id": "80b91aa6-fb80-454c-bf3b-8f32dc204cbe",
   "metadata": {
    "executionCancelledAt": null,
    "executionTime": 49,
    "lastExecutedAt": 1717427799730,
    "lastExecutedByKernel": "99f0087b-e192-4109-ab1f-f3a178abfaf0",
    "lastScheduledRunId": null,
    "lastSuccessfullyExecutedCode": "# Random forest seems to give the lowest MSE\nprint(\"MSE rf {:.2f}\".format(mse_rf))\n\nbest_model = rf\nbest_mse = mse_rf",
    "outputsMetadata": {
     "0": {
      "height": 38,
      "type": "stream"
     }
    }
   },
   "outputs": [
    {
     "name": "stdout",
     "output_type": "stream",
     "text": [
      "MSE score for the random forest 2.23\n"
     ]
    }
   ],
   "source": [
    "# Random forest seems to give the lowest MSE\n",
    "print(\"MSE score for the random forest {:.2f}\".format(mse_rf))\n",
    "\n",
    "best_model = rf\n",
    "best_mse = mse_rf"
   ]
  },
  {
   "cell_type": "markdown",
   "id": "1addf12d",
   "metadata": {},
   "source": [
    "## Conclusion\n",
    "Here we use Mean Square Error to compare our two models: the standard LinearRegression and our more finely trained RandomForestRegressor. </br>\n",
    "Since the MSE score for the RandomForestRegressor is much lower than the one for the LinearRegression, we can say that the second model that we trained has a better accuracy predicting the amount of rental days with less error. "
   ]
  }
 ],
 "metadata": {
  "colab": {
   "name": "Welcome to DataCamp Workspaces.ipynb",
   "provenance": []
  },
  "kernelspec": {
   "display_name": "Python 3",
   "language": "python",
   "name": "python3"
  },
  "language_info": {
   "codemirror_mode": {
    "name": "ipython",
    "version": 3
   },
   "file_extension": ".py",
   "mimetype": "text/x-python",
   "name": "python",
   "nbconvert_exporter": "python",
   "pygments_lexer": "ipython3",
   "version": "3.13.7"
  }
 },
 "nbformat": 4,
 "nbformat_minor": 5
}
