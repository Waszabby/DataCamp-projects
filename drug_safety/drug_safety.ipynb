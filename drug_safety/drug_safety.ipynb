{
 "cells": [
  {
   "cell_type": "markdown",
   "id": "59090772-03e5-4a43-a7c7-eebdfa709342",
   "metadata": {},
   "source": [
    "# Hypothesis Testing in Healthcare: Drug Safety\n",
    "\n",
    "A pharmaceutical company GlobalXYZ has just completed a randomized controlled drug trial. To promote transparency and reproducibility of the drug's outcome, they (GlobalXYZ) have presented the dataset to your organization, a non-profit that focuses primarily on drug safety.\n",
    "\n",
    "The dataset provided contained five adverse effects, demographic data, vital signs, etc. Your organization is primarily interested in the drug's adverse reactions. It wants to know if the adverse reactions, if any, are of significant proportions. It has asked you to explore and answer some questions from the data.\n",
    "\n",
    "The dataset `drug_safety.csv` was obtained from [Hbiostat](https://hbiostat.org/data/) courtesy of the Vanderbilt University Department of Biostatistics. It contained five adverse effects: headache, abdominal pain, dyspepsia, upper respiratory infection, chronic obstructive airway disease (COAD), demographic data, vital signs, lab measures, etc. The ratio of drug observations to placebo observations is 2 to 1.\n",
    "\n",
    "For this project, the dataset has been modified to reflect the presence and absence of adverse effects `adverse_effects` and the number of adverse effects in a single individual `num_effects`.\n",
    "\n",
    "The columns in the modified dataset are: \n",
    "\n",
    "| Column | Description |\n",
    "|--------|-------------|\n",
    "|`sex` | The gender of the individual |\n",
    "|`age` | The age of the individual |\n",
    "|`week` | The week of the drug testing |\n",
    "|`trx` | The treatment (Drug) and control (Placebo) groups | \n",
    "|`wbc` | The count of white blood cells |\n",
    "|`rbc` | The count of red blood cells |\n",
    "|`adverse_effects` | The presence of at least a single adverse effect |\n",
    "|`num_effects` | The number of adverse effects experienced by a single individual |\n",
    "\n",
    "The original dataset can be found [here](https://hbiostat.org/data/repo/safety.rda).\n",
    "\n",
    "Your organization has asked you to explore and answer some questions from the data collected. See the project instructions."
   ]
  },
  {
   "cell_type": "code",
   "execution_count": 1,
   "id": "62dc2a93-8a9c-4757-8aac-214c5de63e74",
   "metadata": {
    "executionCancelledAt": null,
    "executionTime": 3906,
    "lastExecutedAt": 1710605434200,
    "lastScheduledRunId": null,
    "lastSuccessfullyExecutedCode": "# Import packages\nimport numpy as np\nimport pandas as pd\nfrom statsmodels.stats.proportion import proportions_ztest\nimport pingouin\nimport seaborn as sns\nimport matplotlib.pyplot as plt\n\n# Load the dataset\ndrug_safety = pd.read_csv(\"drug_safety.csv\")\n\n# Start coding here...\nprint(drug_safety.trx.value_counts())\nprint(drug_safety.adverse_effects.value_counts())\ndrug_safety.head()",
    "outputsMetadata": {
     "0": {
      "height": 143,
      "type": "stream"
     },
     "1": {
      "height": 550,
      "tableState": {},
      "type": "dataFrame"
     }
    }
   },
   "outputs": [
    {
     "name": "stdout",
     "output_type": "stream",
     "text": [
      "trx\n",
      "Drug       10727\n",
      "Placebo     5376\n",
      "Name: count, dtype: int64\n",
      "adverse_effects\n",
      "No     14567\n",
      "Yes     1536\n",
      "Name: count, dtype: int64\n"
     ]
    },
    {
     "data": {
      "text/html": [
       "<div>\n",
       "<style scoped>\n",
       "    .dataframe tbody tr th:only-of-type {\n",
       "        vertical-align: middle;\n",
       "    }\n",
       "\n",
       "    .dataframe tbody tr th {\n",
       "        vertical-align: top;\n",
       "    }\n",
       "\n",
       "    .dataframe thead th {\n",
       "        text-align: right;\n",
       "    }\n",
       "</style>\n",
       "<table border=\"1\" class=\"dataframe\">\n",
       "  <thead>\n",
       "    <tr style=\"text-align: right;\">\n",
       "      <th></th>\n",
       "      <th>age</th>\n",
       "      <th>sex</th>\n",
       "      <th>trx</th>\n",
       "      <th>week</th>\n",
       "      <th>wbc</th>\n",
       "      <th>rbc</th>\n",
       "      <th>adverse_effects</th>\n",
       "      <th>num_effects</th>\n",
       "    </tr>\n",
       "  </thead>\n",
       "  <tbody>\n",
       "    <tr>\n",
       "      <th>0</th>\n",
       "      <td>62</td>\n",
       "      <td>male</td>\n",
       "      <td>Drug</td>\n",
       "      <td>0</td>\n",
       "      <td>7.3</td>\n",
       "      <td>5.1</td>\n",
       "      <td>No</td>\n",
       "      <td>0</td>\n",
       "    </tr>\n",
       "    <tr>\n",
       "      <th>1</th>\n",
       "      <td>62</td>\n",
       "      <td>male</td>\n",
       "      <td>Drug</td>\n",
       "      <td>1</td>\n",
       "      <td>NaN</td>\n",
       "      <td>NaN</td>\n",
       "      <td>No</td>\n",
       "      <td>0</td>\n",
       "    </tr>\n",
       "    <tr>\n",
       "      <th>2</th>\n",
       "      <td>62</td>\n",
       "      <td>male</td>\n",
       "      <td>Drug</td>\n",
       "      <td>12</td>\n",
       "      <td>5.6</td>\n",
       "      <td>5.0</td>\n",
       "      <td>No</td>\n",
       "      <td>0</td>\n",
       "    </tr>\n",
       "    <tr>\n",
       "      <th>3</th>\n",
       "      <td>62</td>\n",
       "      <td>male</td>\n",
       "      <td>Drug</td>\n",
       "      <td>16</td>\n",
       "      <td>NaN</td>\n",
       "      <td>NaN</td>\n",
       "      <td>No</td>\n",
       "      <td>0</td>\n",
       "    </tr>\n",
       "    <tr>\n",
       "      <th>4</th>\n",
       "      <td>62</td>\n",
       "      <td>male</td>\n",
       "      <td>Drug</td>\n",
       "      <td>2</td>\n",
       "      <td>6.6</td>\n",
       "      <td>5.1</td>\n",
       "      <td>No</td>\n",
       "      <td>0</td>\n",
       "    </tr>\n",
       "  </tbody>\n",
       "</table>\n",
       "</div>"
      ],
      "text/plain": [
       "   age   sex   trx  week  wbc  rbc adverse_effects  num_effects\n",
       "0   62  male  Drug     0  7.3  5.1              No            0\n",
       "1   62  male  Drug     1  NaN  NaN              No            0\n",
       "2   62  male  Drug    12  5.6  5.0              No            0\n",
       "3   62  male  Drug    16  NaN  NaN              No            0\n",
       "4   62  male  Drug     2  6.6  5.1              No            0"
      ]
     },
     "execution_count": 1,
     "metadata": {},
     "output_type": "execute_result"
    }
   ],
   "source": [
    "# Import packages\n",
    "import numpy as np\n",
    "import pandas as pd\n",
    "from statsmodels.stats.proportion import proportions_ztest\n",
    "import pingouin\n",
    "import seaborn as sns\n",
    "import matplotlib.pyplot as plt\n",
    "\n",
    "# Load the dataset\n",
    "drug_safety = pd.read_csv(\"drug_safety.csv\")\n",
    "\n",
    "# Start coding here...\n",
    "print(drug_safety.trx.value_counts())\n",
    "print(drug_safety.adverse_effects.value_counts())\n",
    "drug_safety.head()"
   ]
  },
  {
   "cell_type": "code",
   "execution_count": 12,
   "id": "e6c7e1f6",
   "metadata": {},
   "outputs": [],
   "source": [
    "import warnings\n",
    "warnings.filterwarnings('ignore')"
   ]
  },
  {
   "cell_type": "code",
   "execution_count": 11,
   "id": "bba38254",
   "metadata": {},
   "outputs": [
    {
     "data": {
      "text/plain": [
       "adverse_effects\n",
       "No     9703\n",
       "Yes    1024\n",
       "Name: count, dtype: int64"
      ]
     },
     "execution_count": 11,
     "metadata": {},
     "output_type": "execute_result"
    }
   ],
   "source": [
    "drug_safety[drug_safety.trx == 'Drug'].adverse_effects.value_counts()"
   ]
  },
  {
   "cell_type": "code",
   "execution_count": 10,
   "id": "b21ee63e",
   "metadata": {},
   "outputs": [
    {
     "data": {
      "text/plain": [
       "adverse_effects\n",
       "No     4864\n",
       "Yes     512\n",
       "Name: count, dtype: int64"
      ]
     },
     "execution_count": 10,
     "metadata": {},
     "output_type": "execute_result"
    }
   ],
   "source": [
    "drug_safety[drug_safety.trx != 'Drug'].adverse_effects.value_counts()"
   ]
  },
  {
   "cell_type": "code",
   "execution_count": 29,
   "id": "0d1ec6b6-d1b2-4ac2-8e85-e3eb2cd755ee",
   "metadata": {
    "executionCancelledAt": null,
    "executionTime": 55,
    "lastExecutedAt": 1710605434255,
    "lastScheduledRunId": null,
    "lastSuccessfullyExecutedCode": "# af for adverse effect, we group by Drug and Placebo, to get the adverse effects per group\nadverse_effect = drug_safety.groupby('trx')['adverse_effects'].value_counts()\nprint(adverse_effect)\naf_drug = adverse_effect[('Drug', 'Yes')]\naf_placebo = adverse_effect[('Placebo', 'Yes')]\n\n#Printing the results of adverse effects for each class of trx\nprint('  Drug \\n', af_drug,'\\n', ' Placebo\\n', af_placebo)\ntotal_drug = drug_safety[drug_safety['trx'].isin(['Drug'])]['trx'].value_counts()\nprint('total drug = ', total_drug[0])\ntotal_placebo = drug_safety[drug_safety['trx'].isin(['Placebo'])]['trx'].value_counts()\nprint('total placebo = ', total_placebo[0])\n\n#Verified based off of the value counts for each groups \nprint('verify', 9703 + 1024 + 4864 + 512)\n\n\n#Creating arrays with the successes and total for drug and placebo for the z-test\nsuccesses_dp = np.array([af_drug, af_placebo])\ntotal_dp = np.array([total_drug[0],total_placebo[0]])\nprint('successes:', successes_dp, 'totals:',total_dp)\n\n#Two sample proportion z-test \ntwo_sample_results = proportions_ztest(successes_dp, total_dp)\nprint('p value:', two_sample_results[1])\ntwo_sample_p_value = two_sample_results[1]",
    "outputsMetadata": {
     "0": {
      "height": 332,
      "type": "stream"
     }
    }
   },
   "outputs": [
    {
     "name": "stdout",
     "output_type": "stream",
     "text": [
      "trx      adverse_effects\n",
      "Drug     No                 9703\n",
      "         Yes                1024\n",
      "Placebo  No                 4864\n",
      "         Yes                 512\n",
      "Name: count, dtype: int64\n",
      "\n",
      "  Drug \n",
      " 1024 \n",
      "  Placebo\n",
      " 512\n",
      "\n",
      "total drug =  10727\n",
      "total placebo =  5376\n",
      "verifying the total being equal to thesum of drug and placebo:  16103 \n",
      "\n",
      "successes: [1024  512] totals: [10727  5376]\n",
      "p value: 0.9639333330262475\n"
     ]
    }
   ],
   "source": [
    "# af for adverse effect, we group by Drug and Placebo, to get the adverse effects per group\n",
    "adverse_effect = drug_safety.groupby('trx')['adverse_effects'].value_counts()\n",
    "print(adverse_effect)\n",
    "af_drug = adverse_effect[('Drug', 'Yes')]\n",
    "af_placebo = adverse_effect[('Placebo', 'Yes')]\n",
    "\n",
    "#Printing the results of adverse effects for each class of trx\n",
    "print('\\n  Drug \\n', af_drug,'\\n', ' Placebo\\n', af_placebo)\n",
    "total_drug = drug_safety[drug_safety['trx'].isin(['Drug'])]['trx'].value_counts()\n",
    "print('\\ntotal drug = ', total_drug[0])\n",
    "total_placebo = drug_safety[drug_safety['trx'].isin(['Placebo'])]['trx'].value_counts()\n",
    "print('total placebo = ', total_placebo[0])\n",
    "\n",
    "#Verified based off of the value counts for each groups \n",
    "print('verifying the total being equal to thesum of drug and placebo: ', adverse_effect.values.sum(), '\\n')\n",
    "\n",
    "\n",
    "#Creating arrays with the successes and total for drug and placebo for the z-test\n",
    "successes_dp = np.array([af_drug, af_placebo])\n",
    "total_dp = np.array([total_drug[0],total_placebo[0]])\n",
    "print('successes:', successes_dp, 'totals:',total_dp)\n",
    "\n",
    "#Two sample proportion z-test \n",
    "two_sample_results = proportions_ztest(successes_dp, total_dp)\n",
    "print('p value:', two_sample_results[1])\n",
    "two_sample_p_value = two_sample_results[1]"
   ]
  },
  {
   "cell_type": "code",
   "execution_count": 23,
   "id": "ab3f008b",
   "metadata": {},
   "outputs": [
    {
     "data": {
      "text/plain": [
       "np.int64(16103)"
      ]
     },
     "execution_count": 23,
     "metadata": {},
     "output_type": "execute_result"
    }
   ],
   "source": [
    "adverse_effect.values.sum()"
   ]
  },
  {
   "cell_type": "code",
   "execution_count": 14,
   "id": "0a5b39bd-2697-4614-9a5d-f08834526208",
   "metadata": {
    "executionCancelledAt": null,
    "executionTime": 61,
    "lastExecutedAt": 1710605434316,
    "lastScheduledRunId": null,
    "lastSuccessfullyExecutedCode": "# Performing Chi test on num_effects and trx\nchi2_test = pingouin.chi2_independence(data = drug_safety, x = 'num_effects', y = 'trx')\nprint(chi2_test)\n\n#Retreive the p value\nnum_effects_p_value = chi2_test[2]['pval'][0]\nprint('p value:', num_effects_p_value)",
    "outputsMetadata": {
     "0": {
      "height": 395,
      "type": "stream"
     }
    }
   },
   "outputs": [
    {
     "name": "stdout",
     "output_type": "stream",
     "text": [
      "(trx                 Drug      Placebo\n",
      "num_effects                          \n",
      "0            9703.794883  4863.205117\n",
      "1             960.587096   481.412904\n",
      "2              58.621126    29.378874\n",
      "3               3.996895     2.003105, trx          Drug  Placebo\n",
      "num_effects               \n",
      "0            9703     4864\n",
      "1             956      486\n",
      "2              63       25\n",
      "3               5        1,                  test    lambda      chi2  dof      pval    cramer     power\n",
      "0             pearson  1.000000  1.799644  3.0  0.615012  0.010572  0.176275\n",
      "1        cressie-read  0.666667  1.836006  3.0  0.607131  0.010678  0.179153\n",
      "2      log-likelihood  0.000000  1.922495  3.0  0.588648  0.010926  0.186033\n",
      "3       freeman-tukey -0.500000  2.001752  3.0  0.572043  0.011149  0.192379\n",
      "4  mod-log-likelihood -1.000000  2.096158  3.0  0.552690  0.011409  0.199984\n",
      "5              neyman -2.000000  2.344303  3.0  0.504087  0.012066  0.220189)\n",
      "p value: 0.6150123339426765\n"
     ]
    }
   ],
   "source": [
    "# Performing Chi test on num_effects and trx\n",
    "chi2_test = pingouin.chi2_independence(data = drug_safety, x = 'num_effects', y = 'trx')\n",
    "print(chi2_test)\n",
    "\n",
    "#Retreive the p value\n",
    "num_effects_p_value = chi2_test[2]['pval'][0]\n",
    "print('p value:', num_effects_p_value)"
   ]
  },
  {
   "cell_type": "code",
   "execution_count": 33,
   "id": "f6a71d07-3ae9-46e5-b259-faa12847e730",
   "metadata": {
    "executionCancelledAt": null,
    "executionTime": 737,
    "lastExecutedAt": 1710605435053,
    "lastScheduledRunId": null,
    "lastSuccessfullyExecutedCode": "# Histogram of age by trx groups\n\nsns.histplot(data = drug_safety, x = 'age', hue = 'trx')\nplt.show()\n\nsns.histplot(data = drug_safety, x = 'age')\nplt.show()\n\nprint(drug_safety['age'].median())\n\n#testing for normality\npingouin.normality(data = drug_safety, dv = 'age', group = 'trx')\n\n# we can see that the data is not normaly distributed in either cases",
    "outputsMetadata": {
     "1": {
      "height": 123,
      "type": "dataFrame"
     },
     "2": {
      "height": 38,
      "type": "stream"
     },
     "3": {
      "height": 550,
      "tableState": {},
      "type": "dataFrame"
     }
    }
   },
   "outputs": [
    {
     "data": {
      "image/png": "[encoded data removed]",
      "text/plain": [
       "<Figure size 640x480 with 1 Axes>"
      ]
     },
     "metadata": {},
     "output_type": "display_data"
    },
    {
     "name": "stdout",
     "output_type": "stream",
     "text": [
      "65.0\n"
     ]
    },
    {
     "data": {
      "text/html": [
       "<div>\n",
       "<style scoped>\n",
       "    .dataframe tbody tr th:only-of-type {\n",
       "        vertical-align: middle;\n",
       "    }\n",
       "\n",
       "    .dataframe tbody tr th {\n",
       "        vertical-align: top;\n",
       "    }\n",
       "\n",
       "    .dataframe thead th {\n",
       "        text-align: right;\n",
       "    }\n",
       "</style>\n",
       "<table border=\"1\" class=\"dataframe\">\n",
       "  <thead>\n",
       "    <tr style=\"text-align: right;\">\n",
       "      <th></th>\n",
       "      <th>W</th>\n",
       "      <th>pval</th>\n",
       "      <th>normal</th>\n",
       "    </tr>\n",
       "    <tr>\n",
       "      <th>trx</th>\n",
       "      <th></th>\n",
       "      <th></th>\n",
       "      <th></th>\n",
       "    </tr>\n",
       "  </thead>\n",
       "  <tbody>\n",
       "    <tr>\n",
       "      <th>Drug</th>\n",
       "      <td>0.976763</td>\n",
       "      <td>2.117243e-38</td>\n",
       "      <td>False</td>\n",
       "    </tr>\n",
       "    <tr>\n",
       "      <th>Placebo</th>\n",
       "      <td>0.975600</td>\n",
       "      <td>2.236347e-29</td>\n",
       "      <td>False</td>\n",
       "    </tr>\n",
       "  </tbody>\n",
       "</table>\n",
       "</div>"
      ],
      "text/plain": [
       "                W          pval  normal\n",
       "trx                                    \n",
       "Drug     0.976763  2.117243e-38   False\n",
       "Placebo  0.975600  2.236347e-29   False"
      ]
     },
     "execution_count": 33,
     "metadata": {},
     "output_type": "execute_result"
    }
   ],
   "source": [
    "# Histogram of age by trx groups\n",
    "\n",
    "sns.histplot(data = drug_safety, x = 'age', hue = 'trx')\n",
    "plt.ylabel('Patient count')\n",
    "plt.xlabel('Patient age')\n",
    "plt.show()\n",
    "\n",
    "print(drug_safety['age'].median())\n",
    "\n",
    "#testing for normality\n",
    "pingouin.normality(data = drug_safety, dv = 'age', group = 'trx')\n",
    "\n",
    "# we can see that the age class is not normaly distributed in either cases"
   ]
  },
  {
   "cell_type": "code",
   "execution_count": 16,
   "id": "e4653793-d66b-4927-ab08-3b834ca62e03",
   "metadata": {
    "executionCancelledAt": null,
    "executionTime": 410,
    "lastExecutedAt": 1710605435463,
    "lastScheduledRunId": null,
    "lastSuccessfullyExecutedCode": "#retreiving the two subgroups' age\nage_drug = drug_safety[drug_safety['trx'].isin(['Drug'])]['age']\nage_placebo = drug_safety[drug_safety['trx'].isin(['Placebo'])]['age']\n#or done with print(drug_safety.loc[drug_safety['trx'] == 'Placebo']['age'])\n\nmwu_test = pingouin.mwu(x = age_drug, y = age_placebo, alternative='two-sided')\nprint(mwu_test)\nprint('p val = ', mwu_test['p-val'][0])\n\nage_group_effects_p_value = mwu_test['p-val']",
    "outputsMetadata": {
     "0": {
      "height": 80,
      "type": "stream"
     }
    }
   },
   "outputs": [
    {
     "name": "stdout",
     "output_type": "stream",
     "text": [
      "          U-val alternative     p-val      RBC      CLES\n",
      "MWU  29149339.5   two-sided  0.256963  0.01093  0.505465\n",
      "p val =  0.25696267004066287\n"
     ]
    }
   ],
   "source": [
    "#retreiving the two subgroups' age\n",
    "age_drug = drug_safety[drug_safety['trx'].isin(['Drug'])]['age']\n",
    "age_placebo = drug_safety[drug_safety['trx'].isin(['Placebo'])]['age']\n",
    "#or done with print(drug_safety.loc[drug_safety['trx'] == 'Placebo']['age'])\n",
    "\n",
    "mwu_test = pingouin.mwu(x = age_drug, y = age_placebo, alternative='two-sided')\n",
    "print(mwu_test)\n",
    "print('p val = ', mwu_test['p-val'][0])\n",
    "\n",
    "age_group_effects_p_value = mwu_test['p-val'][0]"
   ]
  },
  {
   "cell_type": "code",
   "execution_count": 8,
   "id": "83eccece-242c-4f4e-b76d-d8a98fa788b5",
   "metadata": {
    "executionCancelledAt": null,
    "executionTime": 52,
    "lastExecutedAt": 1710605435515,
    "lastScheduledRunId": null,
    "lastSuccessfullyExecutedCode": "print(two_sample_p_value)\nprint(num_effects_p_value)\nprint(age_group_effects_p_value)",
    "outputsMetadata": {
     "0": {
      "height": 101,
      "type": "stream"
     }
    }
   },
   "outputs": [
    {
     "name": "stdout",
     "output_type": "stream",
     "text": [
      "0.9639333330262475\n",
      "0.6150123339426765\n",
      "0.25696267004066287\n"
     ]
    }
   ],
   "source": [
    "print(two_sample_p_value)\n",
    "print(num_effects_p_value)\n",
    "print(age_group_effects_p_value)"
   ]
  },
  {
   "cell_type": "markdown",
   "id": "caa4eb0d",
   "metadata": {},
   "source": [
    "## Conclusion"
   ]
  },
  {
   "cell_type": "markdown",
   "id": "13968fb3",
   "metadata": {},
   "source": [
    "In all three cases, our null hypothesis was that the groups didn't have a significant difference.\n",
    "Since the p-value is greater than 0.05 in all three cases, the conclusion is that there is not enough statistical evidence to reject the null hypothesis. \n",
    "This means any observed difference between the groups is likely due to random chance, and there is no statistically significant difference between them. \n",
    "The data does not support claiming an effect of the treatment at conventional significance levels, with a 95% confidence. \n",
    "There is also no evidence of significant difference of the number of adverse effect with and without the drug, and between different age groups."
   ]
  }
 ],
 "metadata": {
  "colab": {
   "name": "Welcome to DataCamp Workspaces.ipynb",
   "provenance": []
  },
  "kernelspec": {
   "display_name": "Python 3",
   "language": "python",
   "name": "python3"
  },
  "language_info": {
   "codemirror_mode": {
    "name": "ipython",
    "version": 3
   },
   "file_extension": ".py",
   "mimetype": "text/x-python",
   "name": "python",
   "nbconvert_exporter": "python",
   "pygments_lexer": "ipython3",
   "version": "3.13.7"
  }
 },
 "nbformat": 4,
 "nbformat_minor": 5
}
